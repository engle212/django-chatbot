{
 "cells": [
  {
   "cell_type": "code",
   "execution_count": 1,
   "metadata": {},
   "outputs": [],
   "source": [
    "from huggingface_hub import InferenceClient"
   ]
  },
  {
   "cell_type": "code",
   "execution_count": 2,
   "metadata": {},
   "outputs": [],
   "source": [
    "\n",
    "\n"
   ]
  },
  {
   "cell_type": "code",
   "execution_count": 11,
   "metadata": {},
   "outputs": [
    {
     "data": {
      "text/plain": [
       "<generator object _stream_chat_completion_response at 0x000001CFB8B6BC40>"
      ]
     },
     "execution_count": 11,
     "metadata": {},
     "output_type": "execute_result"
    }
   ],
   "source": [
    "stream = client.chat.completions.create(model=\"google/gemma-2-27b-it\", messages=messages, temperature=0.5, max_tokens=2048, top_p=0.7, stream=True)\n",
    "\n",
    "stream"
   ]
  },
  {
   "cell_type": "code",
   "execution_count": 12,
   "metadata": {},
   "outputs": [
    {
     "name": "stdout",
     "output_type": "stream",
     "text": [
      "The old lighthouse keeper squinted at the churning sea. For fifty years, he'd watched the waves crash against the rocks, a symphony of white noise and salty spray. Tonight, though, something was different. A faint, green glow pulsed from the depths, beckoning him closer. Curiosity wrestled with caution, but the pull was too strong. He climbed down the treacherous path, the green light growing brighter with each step. At the water's edge, a single, luminous jellyfish pulsed, its bell casting an ethereal glow. The keeper reached out, his gnarled hand trembling. For the first time in decades, he felt a spark of wonder. The sea, it seemed, still held mysteries. \n",
      "\n",
      "\n",
      "\n"
     ]
    }
   ],
   "source": [
    "outputStr = \"\"\n",
    "for chunk in stream:\n",
    "  outputStr = outputStr + str(chunk.choices[0].delta.content)\n",
    "\n",
    "print(outputStr)"
   ]
  }
 ],
 "metadata": {
  "kernelspec": {
   "display_name": "Python 3",
   "language": "python",
   "name": "python3"
  },
  "language_info": {
   "codemirror_mode": {
    "name": "ipython",
    "version": 3
   },
   "file_extension": ".py",
   "mimetype": "text/x-python",
   "name": "python",
   "nbconvert_exporter": "python",
   "pygments_lexer": "ipython3",
   "version": "3.11.0"
  }
 },
 "nbformat": 4,
 "nbformat_minor": 2
}
